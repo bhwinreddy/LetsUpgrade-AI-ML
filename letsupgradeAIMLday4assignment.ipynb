{
  "nbformat": 4,
  "nbformat_minor": 0,
  "metadata": {
    "colab": {
      "name": "letsupgradeAIMLday4assignment.ipynb",
      "provenance": []
    },
    "kernelspec": {
      "name": "python3",
      "display_name": "Python 3"
    }
  },
  "cells": [
    {
      "cell_type": "markdown",
      "metadata": {
        "id": "PHJaUBJdOyVi",
        "colab_type": "text"
      },
      "source": [
        "#Question 1 :\n",
        "**Research on whether addition, subtraction, multiplication, division, floor division and modulo\n",
        "operations be performed on complex numbers. Based on your study, implement a Python\n",
        "program to demonstrate these operations.**"
      ]
    },
    {
      "cell_type": "code",
      "metadata": {
        "id": "y_wrCwTIOwpe",
        "colab_type": "code",
        "colab": {
          "base_uri": "https://localhost:8080/",
          "height": 305
        },
        "outputId": "09ad854e-33f9-4fa1-cfd4-1fd562a0912f"
      },
      "source": [
        "x=complex(input())\n",
        "y=complex(input())\n",
        "print(x+y)\n",
        "print(x-y)\n",
        "print(x*y)\n",
        "#print(x%y)\n",
        "print(x/y)\n",
        "print(x%y)#this can not be done "
      ],
      "execution_count": 3,
      "outputs": [
        {
          "output_type": "stream",
          "text": [
            "3+5j\n",
            "4+6j\n",
            "(7+11j)\n",
            "(-1-1j)\n",
            "(-18+38j)\n",
            "(0.8076923076923077+0.03846153846153843j)\n"
          ],
          "name": "stdout"
        },
        {
          "output_type": "error",
          "ename": "TypeError",
          "evalue": "ignored",
          "traceback": [
            "\u001b[0;31m---------------------------------------------------------------------------\u001b[0m",
            "\u001b[0;31mTypeError\u001b[0m                                 Traceback (most recent call last)",
            "\u001b[0;32m<ipython-input-3-1e4bd17b1881>\u001b[0m in \u001b[0;36m<module>\u001b[0;34m()\u001b[0m\n\u001b[1;32m      6\u001b[0m \u001b[0;31m#print(x%y)\u001b[0m\u001b[0;34m\u001b[0m\u001b[0;34m\u001b[0m\u001b[0;34m\u001b[0m\u001b[0m\n\u001b[1;32m      7\u001b[0m \u001b[0mprint\u001b[0m\u001b[0;34m(\u001b[0m\u001b[0mx\u001b[0m\u001b[0;34m/\u001b[0m\u001b[0my\u001b[0m\u001b[0;34m)\u001b[0m\u001b[0;34m\u001b[0m\u001b[0;34m\u001b[0m\u001b[0m\n\u001b[0;32m----> 8\u001b[0;31m \u001b[0mprint\u001b[0m\u001b[0;34m(\u001b[0m\u001b[0mx\u001b[0m\u001b[0;34m%\u001b[0m\u001b[0my\u001b[0m\u001b[0;34m)\u001b[0m\u001b[0;31m#this can not be done\u001b[0m\u001b[0;34m\u001b[0m\u001b[0;34m\u001b[0m\u001b[0m\n\u001b[0m",
            "\u001b[0;31mTypeError\u001b[0m: can't mod complex numbers."
          ]
        }
      ]
    },
    {
      "cell_type": "markdown",
      "metadata": {
        "id": "CvnEp3xPQkJg",
        "colab_type": "text"
      },
      "source": [
        "#Question 2 :\n",
        "**Research on range() functions and its parameters. Create a markdown cell and write in your own\n",
        "words (no copy-paste from google please) what you understand about it. Implement a small\n",
        "program of your choice on the same.**\n"
      ]
    },
    {
      "cell_type": "markdown",
      "metadata": {
        "id": "Gqd1aT4dQueO",
        "colab_type": "text"
      },
      "source": [
        "\n",
        "\n",
        "\n",
        "1.   range function has 3 parameter \n",
        "2.   starting valve\n",
        "3.   ending value but loop iterates to end-1\n",
        "4.   step size \n",
        "4.   syntax range(start,end,step)\n",
        "\n",
        "\n",
        "---\n",
        "\n",
        "\n",
        "\n",
        "\n",
        "\n",
        "---\n",
        "\n"
      ]
    },
    {
      "cell_type": "code",
      "metadata": {
        "id": "coyI8WRwR9ve",
        "colab_type": "code",
        "colab": {
          "base_uri": "https://localhost:8080/",
          "height": 35
        },
        "outputId": "e6a7cc40-1de1-4e57-bd99-b0cbce77e400"
      },
      "source": [
        "#example\n",
        "#print even numbers between 1 to 20\n",
        "x=20\n",
        "for i in range(2,x+1,2):\n",
        "  print(i,end=' ')\n"
      ],
      "execution_count": 5,
      "outputs": [
        {
          "output_type": "stream",
          "text": [
            "2 4 6 8 10 12 14 16 18 20 "
          ],
          "name": "stdout"
        }
      ]
    },
    {
      "cell_type": "markdown",
      "metadata": {
        "id": "48OAldQMShBf",
        "colab_type": "text"
      },
      "source": [
        "#Question 3:\n",
        "**Consider two numbers. Perform their subtraction and if the result of subtraction is greater than\n",
        "25, print their multiplication result else print their division result.**\n"
      ]
    },
    {
      "cell_type": "code",
      "metadata": {
        "id": "ggvKaoffTT5r",
        "colab_type": "code",
        "colab": {
          "base_uri": "https://localhost:8080/",
          "height": 69
        },
        "outputId": "9cf27e9a-03c0-45da-d22a-f29904e0857a"
      },
      "source": [
        "x=int(input())\n",
        "y=int(input())\n",
        "if x-y >25:\n",
        "  print(x*y)\n",
        "else:\n",
        "  print(x/y)"
      ],
      "execution_count": 6,
      "outputs": [
        {
          "output_type": "stream",
          "text": [
            "56\n",
            "23\n",
            "1288\n"
          ],
          "name": "stdout"
        }
      ]
    },
    {
      "cell_type": "markdown",
      "metadata": {
        "id": "-6FD5vtDT9Q8",
        "colab_type": "text"
      },
      "source": [
        "#Question 4:\n",
        "**Consider a list of 10 elements of integer values. If the number in the list is divisible by 2, print the\n",
        "result as \"square of that number minus 2\".**"
      ]
    },
    {
      "cell_type": "code",
      "metadata": {
        "id": "MT48oiLzUFUb",
        "colab_type": "code",
        "colab": {
          "base_uri": "https://localhost:8080/",
          "height": 52
        },
        "outputId": "07ca75b6-ba60-422b-a4f0-702e38dc6ce9"
      },
      "source": [
        "x=list(range(1,11))\n",
        "print(x)\n",
        "for i in x:\n",
        "  if i%2==0:\n",
        "    print(i**2-2,end=\" \")"
      ],
      "execution_count": 8,
      "outputs": [
        {
          "output_type": "stream",
          "text": [
            "[1, 2, 3, 4, 5, 6, 7, 8, 9, 10]\n",
            "2 14 34 62 98 "
          ],
          "name": "stdout"
        }
      ]
    },
    {
      "cell_type": "markdown",
      "metadata": {
        "id": "5jU558EYVdmW",
        "colab_type": "text"
      },
      "source": [
        "#Question 5:\n",
        "**Consider a list of 10 elements. Print all the elements in the list which are greater than 7 when that\n",
        "number is divided 2**"
      ]
    },
    {
      "cell_type": "code",
      "metadata": {
        "id": "hWohUh9DVnZt",
        "colab_type": "code",
        "colab": {
          "base_uri": "https://localhost:8080/",
          "height": 52
        },
        "outputId": "035b2cfa-a971-49bd-876b-dd5e892226c6"
      },
      "source": [
        "x=list(range(1,11))\n",
        "print(x)\n",
        "for i in x:\n",
        "  if i>7:\n",
        "    print(i,end=\" \")"
      ],
      "execution_count": 9,
      "outputs": [
        {
          "output_type": "stream",
          "text": [
            "[1, 2, 3, 4, 5, 6, 7, 8, 9, 10]\n",
            "8 9 10 "
          ],
          "name": "stdout"
        }
      ]
    }
  ]
}