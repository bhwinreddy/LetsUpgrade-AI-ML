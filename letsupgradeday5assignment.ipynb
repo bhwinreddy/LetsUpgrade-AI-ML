{
  "nbformat": 4,
  "nbformat_minor": 0,
  "metadata": {
    "colab": {
      "name": "letsupgradeday5assignment.ipynb",
      "provenance": []
    },
    "kernelspec": {
      "name": "python3",
      "display_name": "Python 3"
    }
  },
  "cells": [
    {
      "cell_type": "markdown",
      "metadata": {
        "id": "6IrmtOlT-d7T",
        "colab_type": "text"
      },
      "source": [
        "#Question 1 :\n",
        "**Write a Python program to find the first 20 non-even prime natural numbers**"
      ]
    },
    {
      "cell_type": "code",
      "metadata": {
        "id": "sbTPJ-lJ7cDJ",
        "colab_type": "code",
        "colab": {
          "base_uri": "https://localhost:8080/",
          "height": 52
        },
        "outputId": "fd4c3a4b-1b30-4fdc-869a-71c524df4e6f"
      },
      "source": [
        "def prime(x):\n",
        "  count=0\n",
        "  for i in range(1,x):\n",
        "    if x%i ==0:\n",
        "      count=count+1\n",
        "  if count==1:\n",
        "    return True\n",
        "  return False\n",
        "\n",
        "n=int(input())\n",
        "even_pr=[]\n",
        "if n>=80:\n",
        "  for i in range(n):\n",
        "    if prime(i)==True:\n",
        "      even_pr.append(i)\n",
        "  for i in range(1,21):\n",
        "    print(even_pr[i],end=\" \")\n",
        "else:\n",
        "  print(\"20 numbers can not be printed\")\n",
        "\n",
        "    \n",
        "\n"
      ],
      "execution_count": null,
      "outputs": [
        {
          "output_type": "stream",
          "text": [
            "80\n",
            "3 5 7 11 13 17 19 23 29 31 37 41 43 47 53 59 61 67 71 73 "
          ],
          "name": "stdout"
        }
      ]
    },
    {
      "cell_type": "markdown",
      "metadata": {
        "id": "dh5hoALo-n18",
        "colab_type": "text"
      },
      "source": [
        "#Question 2 :\n",
        "**Write a Python program to implement 15 functions of string.**"
      ]
    },
    {
      "cell_type": "code",
      "metadata": {
        "id": "Np1_IsBn_Co0",
        "colab_type": "code",
        "colab": {
          "base_uri": "https://localhost:8080/",
          "height": 277
        },
        "outputId": "0c1aaa0a-febc-4abd-9b97-3b11b6db201a"
      },
      "source": [
        "x=\"bhuvaneswarReddy\"\n",
        "string=\"how is the jos2h\"\n",
        "List=[\"bhuva\",\"neswar\",\"reddy\"]\n",
        "y=x.capitalize()#1\n",
        "a=x.casefold()#2\n",
        "\n",
        "print(y)\n",
        "print(a)\n",
        "print(string.center(8))#3.moves the string n spaces\n",
        "print(x.count(\"r\")) #4.returns count of that element\n",
        "print(x.find(\"b\"))#5.returns the index of that element in string\n",
        "print(x.isalpha())#6returns true if the all elements all alphabets\n",
        "print(x.isprintable())#7.reurns true if the sentence is printable\n",
        "print(x.islower())#8.return all the string is in  lower case\n",
        "print(x.upper())#9.returns all the string to upper case\n",
        "print(x.istitle())#10.returns true is the string is in title format\n",
        "print(a.isalnum())#11.returns true if the strinng contain digits and alphabets\n",
        "print(x.isdigit())#12.returns true if the string contains digits\n",
        "print(x.lower())#13.returns the string to uppercase\n",
        "print(\"\".join(List))#14.converts lidt to strings\n",
        "print(list(string.split(\" \")))#15.converts string to list\n",
        "\n",
        "\n",
        "\n"
      ],
      "execution_count": 15,
      "outputs": [
        {
          "output_type": "stream",
          "text": [
            "Bhuvaneswarreddy\n",
            "bhuvaneswarreddy\n",
            "how is the jos2h\n",
            "1\n",
            "0\n",
            "True\n",
            "True\n",
            "False\n",
            "BHUVANESWARREDDY\n",
            "False\n",
            "True\n",
            "False\n",
            "bhuvaneswarreddy\n",
            "bhuvaneswarreddy\n",
            "['how', 'is', 'the', 'jos2h']\n"
          ],
          "name": "stdout"
        }
      ]
    },
    {
      "cell_type": "markdown",
      "metadata": {
        "id": "WI7UAPYQubCq",
        "colab_type": "text"
      },
      "source": [
        "#Question 3:\n",
        "**Write a Python program to check if the given string is a Palindrome or Anagram or None of them.\n",
        "Display the message accordingly to the user.**\n"
      ]
    },
    {
      "cell_type": "code",
      "metadata": {
        "id": "ym_fYLrnuakg",
        "colab_type": "code",
        "colab": {
          "base_uri": "https://localhost:8080/",
          "height": 69
        },
        "outputId": "28b49f63-56f4-422d-fe8a-927a00f6a7ce"
      },
      "source": [
        "x=input()\n",
        "y=input()\n",
        "if x==x[::-1]:\n",
        "  print(\"palindrome\")\n",
        "elif sorted(x)==sorted(y):\n",
        "  print(\"anagram:\")\n",
        "else:\n",
        "  print(\"not palindrome ,not anagram \")"
      ],
      "execution_count": 25,
      "outputs": [
        {
          "output_type": "stream",
          "text": [
            "madam\n",
            "padam\n",
            "palindrome\n"
          ],
          "name": "stdout"
        }
      ]
    },
    {
      "cell_type": "markdown",
      "metadata": {
        "id": "iauKqah32NqK",
        "colab_type": "text"
      },
      "source": [
        "#Question 4:\n",
        "**Write a Python's user defined function that removes all the additional characters from the string\n",
        "and converts it finally to lower case using built-in lower(). eg: If the string is \"Dr. Darshan Ingle\n",
        "@AI-ML Trainer\", then the output be \"drdarshaningleaimltrainer\".**"
      ]
    },
    {
      "cell_type": "code",
      "metadata": {
        "id": "Pmb0wg7J2Ek1",
        "colab_type": "code",
        "colab": {
          "base_uri": "https://localhost:8080/",
          "height": 52
        },
        "outputId": "9c03186a-2304-4080-ed78-2fd72b83a8ca"
      },
      "source": [
        "x=input()\n",
        "z=[i for i in x if i.isalpha()==True]\n",
        "print(\"\".join(z).lower())"
      ],
      "execution_count": 29,
      "outputs": [
        {
          "output_type": "stream",
          "text": [
            "Dr. Darshan Ingle @AI-ML Trainer\n",
            "drdarshaningleaimltrainer\n"
          ],
          "name": "stdout"
        }
      ]
    }
  ]
}