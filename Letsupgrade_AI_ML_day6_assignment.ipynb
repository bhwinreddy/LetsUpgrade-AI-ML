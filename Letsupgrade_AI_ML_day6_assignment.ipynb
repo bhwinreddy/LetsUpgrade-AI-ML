{
  "nbformat": 4,
  "nbformat_minor": 0,
  "metadata": {
    "colab": {
      "name": "Letsupgrade_AI_ML_day6_assignment.ipynb",
      "provenance": []
    },
    "kernelspec": {
      "name": "python3",
      "display_name": "Python 3"
    }
  },
  "cells": [
    {
      "cell_type": "markdown",
      "metadata": {
        "id": "gx4u09kibwSz",
        "colab_type": "text"
      },
      "source": [
        "#Question 1:\n",
        "**Assuming that we have some email addresses in the \"username@companyname.com\" format, please write program\n",
        "to print the company name of a given email address. Both user names and company names are composed of letters\n",
        "only.\n",
        "Input Format:\n",
        "The first line of the input contains an email address.\n",
        "Output Format:\n",
        "Print the company name in single line.\n",
        "Example;\n",
        "Input:\n",
        "john@google.com\n",
        "Output:\n",
        "google**\n"
      ]
    },
    {
      "cell_type": "code",
      "metadata": {
        "id": "Esc4HruVba6A",
        "colab_type": "code",
        "colab": {
          "base_uri": "https://localhost:8080/",
          "height": 35
        },
        "outputId": "47b8f06f-bba5-48a1-e9e1-262ed6b3ad93"
      },
      "source": [
        "b=\"john@google.com\"\n",
        "x=b.split(\"@\")\n",
        "y=x[1].split(\".\")\n",
        "print(y[0])"
      ],
      "execution_count": null,
      "outputs": [
        {
          "output_type": "stream",
          "text": [
            "google\n"
          ],
          "name": "stdout"
        }
      ]
    },
    {
      "cell_type": "markdown",
      "metadata": {
        "id": "xCl0wHCWdxMH",
        "colab_type": "text"
      },
      "source": [
        "#Question 2:\n",
        "**Write a program that accepts a comma-separated sequence of words as input and prints the words in a comma\n",
        "separated sequence after sorting them alphabetically.\n",
        "Input Format:\n",
        "The first line of input contains words separated by the comma.\n",
        "Output Format:\n",
        "Print the sorted words separated by the comma.\n",
        "Example:\n",
        "Input:\n",
        "without,hello,bag,world\n",
        "Output:\n",
        "bag,hello,without,world**"
      ]
    },
    {
      "cell_type": "code",
      "metadata": {
        "id": "EDxKRwjjctMP",
        "colab_type": "code",
        "colab": {
          "base_uri": "https://localhost:8080/",
          "height": 52
        },
        "outputId": "a41c9067-074b-4790-fb20-b1de09a0ef6c"
      },
      "source": [
        "x=input().split(',')\n",
        "print(sorted(x))"
      ],
      "execution_count": null,
      "outputs": [
        {
          "output_type": "stream",
          "text": [
            "without,hello,bag,world\n",
            "['bag', 'hello', 'without', 'world']\n"
          ],
          "name": "stdout"
        }
      ]
    },
    {
      "cell_type": "markdown",
      "metadata": {
        "id": "lfgmOkuVgmLv",
        "colab_type": "text"
      },
      "source": [
        "#Question 3:\n",
        "**Create your own Jupyter Notebook for Sets.\n",
        "Reference link: https://www.w3schools.com/python/python_sets.asp**"
      ]
    },
    {
      "cell_type": "code",
      "metadata": {
        "id": "hNS3cl_amPlN",
        "colab_type": "code",
        "colab": {}
      },
      "source": [
        ""
      ],
      "execution_count": null,
      "outputs": []
    },
    {
      "cell_type": "markdown",
      "metadata": {
        "id": "qu0Ug3Z1bulr",
        "colab_type": "text"
      },
      "source": [
        ""
      ]
    },
    {
      "cell_type": "markdown",
      "metadata": {
        "id": "rtX1JJY_hUNM",
        "colab_type": "text"
      },
      "source": [
        "#Question 4:\n",
        "**Given a list of n-1 numbers ranging from 1 to n, your task is to find the missing number. There are no duplicates.\n",
        "Input Format:\n",
        "The first line contains n-1 numbers with each number separated by a space.\n",
        "Output Format:\n",
        "Print the missing number\n",
        "Example:\n",
        "Input:1 2 4 6 3 7 8\n",
        "Output:5**\n"
      ]
    },
    {
      "cell_type": "code",
      "metadata": {
        "id": "B2ymXTa7hfcQ",
        "colab_type": "code",
        "colab": {
          "base_uri": "https://localhost:8080/",
          "height": 52
        },
        "outputId": "ed938ca6-9741-4e9b-efc7-4a8aacf7087d"
      },
      "source": [
        "x=list(map(int,input().split(',')))\n",
        "m=len(x)\n",
        "n=m+1\n",
        "z=[i for i in range(1,n)]\n",
        "for i in z:\n",
        "  if i not in x:\n",
        "    print(i)"
      ],
      "execution_count": null,
      "outputs": [
        {
          "output_type": "stream",
          "text": [
            "1,2,3,4,6,7,8\n",
            "5\n"
          ],
          "name": "stdout"
        }
      ]
    },
    {
      "cell_type": "markdown",
      "metadata": {
        "id": "6t6Yi_OTkPZB",
        "colab_type": "text"
      },
      "source": [
        "#Question 5:\n",
        "**With a given list L, write a program to print this list L after removing all duplicate values with original order reserved.\n",
        "Example:\n",
        "If the input list is\n",
        "12 24 35 24 88 120 155 88 120 155\n",
        "Then the output should be\n",
        "12 24 35 88 120 155\n",
        "Explanation:\n",
        "Third, seventh and ninth element of the list L has been removed because it was already present.\n",
        "Input Format:\n",
        "In one line take the elements of the list L with each element separated by a space.\n",
        "Output Format:\n",
        "Print the elements of the modified list in one line with each element separated by a space.\n",
        "Example:\n",
        "Input: 12 24 35 24\n",
        "Output:\n",
        "12 24 35**"
      ]
    },
    {
      "cell_type": "code",
      "metadata": {
        "id": "kiUZSzuZj71I",
        "colab_type": "code",
        "colab": {
          "base_uri": "https://localhost:8080/",
          "height": 52
        },
        "outputId": "eb47b51e-b1f8-451a-a607-21ad906b7dd5"
      },
      "source": [
        "x=list(map(int,input().split(\" \")))\n",
        "y=sorted(list(set(x)))\n",
        "for i in y:\n",
        "  print(i,end=' ')"
      ],
      "execution_count": null,
      "outputs": [
        {
          "output_type": "stream",
          "text": [
            "12 24 35 24 88 120 155 88 120 155\n",
            "12 24 35 88 120 155 "
          ],
          "name": "stdout"
        }
      ]
    }
  ]
}