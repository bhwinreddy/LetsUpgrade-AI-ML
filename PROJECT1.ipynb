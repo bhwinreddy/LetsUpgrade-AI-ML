{
 "cells": [
  {
   "cell_type": "code",
   "execution_count": 47,
   "metadata": {
    "ExecuteTime": {
     "end_time": "2020-08-23T03:28:43.556832Z",
     "start_time": "2020-08-23T03:28:43.541093Z"
    }
   },
   "outputs": [],
   "source": [
    "import os\n",
    "import sys \n",
    "import numpy as np \n",
    "import pandas as pd \n",
    "from sklearn.model_selection import train_test_split\n",
    "from scipy.io import loadmat\n"
   ]
  },
  {
   "cell_type": "markdown",
   "metadata": {},
   "source": [
    "# import pyod packages and method"
   ]
  },
  {
   "cell_type": "code",
   "execution_count": 48,
   "metadata": {
    "ExecuteTime": {
     "end_time": "2020-08-23T03:28:43.598677Z",
     "start_time": "2020-08-23T03:28:43.582638Z"
    }
   },
   "outputs": [],
   "source": [
    "from pyod.models.pca import PCA\n",
    "from pyod.models.mcd import MCD\n",
    "from pyod.models.ocsvm import OCSVM\n",
    "from pyod.models.lof import LOF\n",
    "from pyod.models.cblof import CBLOF\n",
    "from pyod.models.knn import KNN\n",
    "from pyod.models.hbos import HBOS\n",
    "from pyod.models.abod import ABOD\n",
    "from pyod.models.iforest import IForest\n",
    "from pyod.models.feature_bagging import FeatureBagging\n",
    "\n"
   ]
  },
  {
   "cell_type": "markdown",
   "metadata": {},
   "source": [
    "# IMPORT performance metrics"
   ]
  },
  {
   "cell_type": "code",
   "execution_count": 49,
   "metadata": {
    "ExecuteTime": {
     "end_time": "2020-08-23T03:28:43.622423Z",
     "start_time": "2020-08-23T03:28:43.612123Z"
    }
   },
   "outputs": [],
   "source": [
    "from pyod.utils.utility import standardizer\n",
    "from pyod.utils.utility import precision_n_scores\n",
    "from sklearn.metrics import roc_auc_score"
   ]
  },
  {
   "cell_type": "code",
   "execution_count": 50,
   "metadata": {
    "ExecuteTime": {
     "end_time": "2020-08-23T03:28:43.638586Z",
     "start_time": "2020-08-23T03:28:43.625407Z"
    }
   },
   "outputs": [],
   "source": [
    "df_columns=['Data','#Samples','#Dimensions',\"Outlier Perc\",\"ABOD\",\"CBLOF\",\"FB\",\"HBOS\",\"IForest\",\"KNN\",\"LOF\",\"MCD\",\"OCSVM\",\"PCA\"]"
   ]
  },
  {
   "cell_type": "markdown",
   "metadata": {},
   "source": [
    "# define data file and read X and Y"
   ]
  },
  {
   "cell_type": "code",
   "execution_count": 51,
   "metadata": {
    "ExecuteTime": {
     "end_time": "2020-08-23T03:28:43.654723Z",
     "start_time": "2020-08-23T03:28:43.644714Z"
    }
   },
   "outputs": [],
   "source": [
    "data=loadmat(\"day1project/cardio.mat\")\n"
   ]
  },
  {
   "cell_type": "code",
   "execution_count": 52,
   "metadata": {
    "ExecuteTime": {
     "end_time": "2020-08-23T03:28:43.681070Z",
     "start_time": "2020-08-23T03:28:43.658858Z"
    }
   },
   "outputs": [
    {
     "data": {
      "text/plain": [
       "{'__header__': b'MATLAB 5.0 MAT-file, written by Octave 3.8.0, 2014-12-18 10:48:09 UTC',\n",
       " '__version__': '1.0',\n",
       " '__globals__': [],\n",
       " 'X': array([[ 0.00491231,  0.69319077, -0.20364049, ...,  0.23149795,\n",
       "         -0.28978574, -0.49329397],\n",
       "        [ 0.11072935, -0.07990259, -0.20364049, ...,  0.09356344,\n",
       "         -0.25638541, -0.49329397],\n",
       "        [ 0.21654639, -0.27244466, -0.20364049, ...,  0.02459619,\n",
       "         -0.25638541,  1.14001753],\n",
       "        ...,\n",
       "        [-0.41835583, -0.91998844, -0.16463485, ..., -1.49268341,\n",
       "          0.24461959, -0.49329397],\n",
       "        [-0.41835583, -0.91998844, -0.15093411, ..., -1.42371616,\n",
       "          0.14441859, -0.49329397],\n",
       "        [-0.41835583, -0.91998844, -0.20364049, ..., -1.28578165,\n",
       "          3.58465295, -0.49329397]]),\n",
       " 'y': array([[0.],\n",
       "        [0.],\n",
       "        [0.],\n",
       "        ...,\n",
       "        [1.],\n",
       "        [1.],\n",
       "        [1.]])}"
      ]
     },
     "execution_count": 52,
     "metadata": {},
     "output_type": "execute_result"
    }
   ],
   "source": [
    "data"
   ]
  },
  {
   "cell_type": "code",
   "execution_count": 53,
   "metadata": {
    "ExecuteTime": {
     "end_time": "2020-08-23T03:28:43.705786Z",
     "start_time": "2020-08-23T03:28:43.683062Z"
    }
   },
   "outputs": [
    {
     "name": "stdout",
     "output_type": "stream",
     "text": [
      "dict_keys(['__header__', '__version__', '__globals__', 'X', 'y'])\n"
     ]
    },
    {
     "data": {
      "text/plain": [
       "dict_values([b'MATLAB 5.0 MAT-file, written by Octave 3.8.0, 2014-12-18 10:48:09 UTC', '1.0', [], array([[ 0.00491231,  0.69319077, -0.20364049, ...,  0.23149795,\n",
       "        -0.28978574, -0.49329397],\n",
       "       [ 0.11072935, -0.07990259, -0.20364049, ...,  0.09356344,\n",
       "        -0.25638541, -0.49329397],\n",
       "       [ 0.21654639, -0.27244466, -0.20364049, ...,  0.02459619,\n",
       "        -0.25638541,  1.14001753],\n",
       "       ...,\n",
       "       [-0.41835583, -0.91998844, -0.16463485, ..., -1.49268341,\n",
       "         0.24461959, -0.49329397],\n",
       "       [-0.41835583, -0.91998844, -0.15093411, ..., -1.42371616,\n",
       "         0.14441859, -0.49329397],\n",
       "       [-0.41835583, -0.91998844, -0.20364049, ..., -1.28578165,\n",
       "         3.58465295, -0.49329397]]), array([[0.],\n",
       "       [0.],\n",
       "       [0.],\n",
       "       ...,\n",
       "       [1.],\n",
       "       [1.],\n",
       "       [1.]])])"
      ]
     },
     "execution_count": 53,
     "metadata": {},
     "output_type": "execute_result"
    }
   ],
   "source": [
    "print(data.keys())\n",
    "data.values()"
   ]
  },
  {
   "cell_type": "code",
   "execution_count": 54,
   "metadata": {
    "ExecuteTime": {
     "end_time": "2020-08-23T03:28:43.730997Z",
     "start_time": "2020-08-23T03:28:43.706784Z"
    }
   },
   "outputs": [
    {
     "data": {
      "text/plain": [
       "5"
      ]
     },
     "execution_count": 54,
     "metadata": {},
     "output_type": "execute_result"
    }
   ],
   "source": [
    "len(data)"
   ]
  },
  {
   "cell_type": "code",
   "execution_count": 55,
   "metadata": {
    "ExecuteTime": {
     "end_time": "2020-08-23T03:28:43.748913Z",
     "start_time": "2020-08-23T03:28:43.735456Z"
    }
   },
   "outputs": [],
   "source": [
    "df_columns=['Data','#Sample','#Dimensions','Outlier Perc','PCA','MCD','OCSVM','LOF','CBLOF','KNN','HBOS','ABOD','IFOREST','FEATUREBAGGING']"
   ]
  },
  {
   "cell_type": "code",
   "execution_count": 56,
   "metadata": {
    "ExecuteTime": {
     "end_time": "2020-08-23T03:28:43.804529Z",
     "start_time": "2020-08-23T03:28:43.756889Z"
    }
   },
   "outputs": [],
   "source": [
    "roc_df=pd.DataFrame(columns=df_columns)\n",
    "prn_df=pd.DataFrame(columns=df_columns)\n",
    "time_df=pd.DataFrame(columns=df_columns)"
   ]
  },
  {
   "cell_type": "code",
   "execution_count": 57,
   "metadata": {
    "ExecuteTime": {
     "end_time": "2020-08-23T03:28:43.837387Z",
     "start_time": "2020-08-23T03:28:43.810080Z"
    }
   },
   "outputs": [
    {
     "data": {
      "text/html": [
       "<div>\n",
       "<style scoped>\n",
       "    .dataframe tbody tr th:only-of-type {\n",
       "        vertical-align: middle;\n",
       "    }\n",
       "\n",
       "    .dataframe tbody tr th {\n",
       "        vertical-align: top;\n",
       "    }\n",
       "\n",
       "    .dataframe thead th {\n",
       "        text-align: right;\n",
       "    }\n",
       "</style>\n",
       "<table border=\"1\" class=\"dataframe\">\n",
       "  <thead>\n",
       "    <tr style=\"text-align: right;\">\n",
       "      <th></th>\n",
       "      <th>Data</th>\n",
       "      <th>#Sample</th>\n",
       "      <th>#Dimensions</th>\n",
       "      <th>Outlier Perc</th>\n",
       "      <th>PCA</th>\n",
       "      <th>MCD</th>\n",
       "      <th>OCSVM</th>\n",
       "      <th>LOF</th>\n",
       "      <th>CBLOF</th>\n",
       "      <th>KNN</th>\n",
       "      <th>HBOS</th>\n",
       "      <th>ABOD</th>\n",
       "      <th>IFOREST</th>\n",
       "      <th>FEATUREBAGGING</th>\n",
       "    </tr>\n",
       "  </thead>\n",
       "  <tbody>\n",
       "  </tbody>\n",
       "</table>\n",
       "</div>"
      ],
      "text/plain": [
       "Empty DataFrame\n",
       "Columns: [Data, #Sample, #Dimensions, Outlier Perc, PCA, MCD, OCSVM, LOF, CBLOF, KNN, HBOS, ABOD, IFOREST, FEATUREBAGGING]\n",
       "Index: []"
      ]
     },
     "execution_count": 57,
     "metadata": {},
     "output_type": "execute_result"
    }
   ],
   "source": [
    "roc_df"
   ]
  },
  {
   "cell_type": "code",
   "execution_count": 58,
   "metadata": {
    "ExecuteTime": {
     "end_time": "2020-08-23T03:28:43.861836Z",
     "start_time": "2020-08-23T03:28:43.841096Z"
    }
   },
   "outputs": [
    {
     "data": {
      "text/html": [
       "<div>\n",
       "<style scoped>\n",
       "    .dataframe tbody tr th:only-of-type {\n",
       "        vertical-align: middle;\n",
       "    }\n",
       "\n",
       "    .dataframe tbody tr th {\n",
       "        vertical-align: top;\n",
       "    }\n",
       "\n",
       "    .dataframe thead th {\n",
       "        text-align: right;\n",
       "    }\n",
       "</style>\n",
       "<table border=\"1\" class=\"dataframe\">\n",
       "  <thead>\n",
       "    <tr style=\"text-align: right;\">\n",
       "      <th></th>\n",
       "      <th>Data</th>\n",
       "      <th>#Sample</th>\n",
       "      <th>#Dimensions</th>\n",
       "      <th>Outlier Perc</th>\n",
       "      <th>PCA</th>\n",
       "      <th>MCD</th>\n",
       "      <th>OCSVM</th>\n",
       "      <th>LOF</th>\n",
       "      <th>CBLOF</th>\n",
       "      <th>KNN</th>\n",
       "      <th>HBOS</th>\n",
       "      <th>ABOD</th>\n",
       "      <th>IFOREST</th>\n",
       "      <th>FEATUREBAGGING</th>\n",
       "    </tr>\n",
       "  </thead>\n",
       "  <tbody>\n",
       "  </tbody>\n",
       "</table>\n",
       "</div>"
      ],
      "text/plain": [
       "Empty DataFrame\n",
       "Columns: [Data, #Sample, #Dimensions, Outlier Perc, PCA, MCD, OCSVM, LOF, CBLOF, KNN, HBOS, ABOD, IFOREST, FEATUREBAGGING]\n",
       "Index: []"
      ]
     },
     "execution_count": 58,
     "metadata": {},
     "output_type": "execute_result"
    }
   ],
   "source": [
    "prn_df"
   ]
  },
  {
   "cell_type": "code",
   "execution_count": 59,
   "metadata": {
    "ExecuteTime": {
     "end_time": "2020-08-23T03:28:43.874240Z",
     "start_time": "2020-08-23T03:28:43.866331Z"
    }
   },
   "outputs": [],
   "source": [
    "mat_file_list=['arrhythmia.mat','cardio.mat','glass.mat','ionosphere.mat','letter.mat','lympho.mat','mnist.mat','musk.mat','optdigits.mat','pendigits.mat','pima.mat','satellite.mat','satimage-2.mat','shuttle.mat','shuttle.mat','vertebral.mat','vowels.mat','wbc.mat']"
   ]
  },
  {
   "cell_type": "code",
   "execution_count": 60,
   "metadata": {
    "ExecuteTime": {
     "end_time": "2020-08-23T03:28:43.889591Z",
     "start_time": "2020-08-23T03:28:43.879069Z"
    }
   },
   "outputs": [
    {
     "data": {
      "text/plain": [
       "['arrhythmia.mat',\n",
       " 'cardio.mat',\n",
       " 'glass.mat',\n",
       " 'ionosphere.mat',\n",
       " 'letter.mat',\n",
       " 'lympho.mat',\n",
       " 'mnist.mat',\n",
       " 'musk.mat',\n",
       " 'optdigits.mat',\n",
       " 'pendigits.mat',\n",
       " 'pima.mat',\n",
       " 'satellite.mat',\n",
       " 'satimage-2.mat',\n",
       " 'shuttle.mat',\n",
       " 'shuttle.mat',\n",
       " 'vertebral.mat',\n",
       " 'vowels.mat',\n",
       " 'wbc.mat']"
      ]
     },
     "execution_count": 60,
     "metadata": {},
     "output_type": "execute_result"
    }
   ],
   "source": [
    "mat_file_list"
   ]
  },
  {
   "cell_type": "code",
   "execution_count": null,
   "metadata": {
    "ExecuteTime": {
     "start_time": "2020-08-23T03:28:43.655Z"
    }
   },
   "outputs": [
    {
     "name": "stdout",
     "output_type": "stream",
     "text": [
      "\n",
      "... Processing arrhythmia.mat ...\n",
      "Angle-based Outlier Detector (ABOD) ROC:0.7687, precision @ rank n:0.3571, execution time: 0.3241s\n",
      "Cluster-based Local Outlier Factor ROC:0.7684, precision @ rank n:0.4643, execution time: 0.3488s\n",
      "Feature Bagging ROC:0.7799, precision @ rank n:0.5, execution time: 1.3533s\n",
      "Histogram-base Outlier Detection (HBOS) ROC:0.8511, precision @ rank n:0.5714, execution time: 0.1412s\n",
      "Isolation Forest ROC:0.8527, precision @ rank n:0.5714, execution time: 0.8987s\n",
      "K Nearest Neighbors (KNN) ROC:0.782, precision @ rank n:0.5, execution time: 0.2085s\n",
      "Local Outlier Factor (LOF) ROC:0.7787, precision @ rank n:0.4643, execution time: 0.1687s\n"
     ]
    },
    {
     "name": "stderr",
     "output_type": "stream",
     "text": [
      "C:\\Users\\bhuvaneswar\\Anaconda3\\lib\\site-packages\\sklearn\\covariance\\_robust_covariance.py:644: UserWarning: The covariance matrix associated to your dataset is not full rank\n",
      "  warnings.warn(\"The covariance matrix associated to your dataset \"\n"
     ]
    },
    {
     "name": "stdout",
     "output_type": "stream",
     "text": [
      "Minimum Covariance Determinant (MCD) ROC:0.8228, precision @ rank n:0.4286, execution time: 1.3461s\n",
      "One-class SVM (OCSVM) ROC:0.7986, precision @ rank n:0.5, execution time: 0.1239s\n",
      "Principal Component Analysis (PCA) ROC:0.7997, precision @ rank n:0.5, execution time: 0.1637s\n",
      "\n",
      "... Processing cardio.mat ...\n",
      "Angle-based Outlier Detector (ABOD) ROC:0.5763, precision @ rank n:0.1875, execution time: 1.1571s\n",
      "Cluster-based Local Outlier Factor ROC:0.8221, precision @ rank n:0.4844, execution time: 0.4833s\n",
      "Feature Bagging ROC:0.4879, precision @ rank n:0.1406, execution time: 1.828s\n",
      "Histogram-base Outlier Detection (HBOS) ROC:0.8453, precision @ rank n:0.4688, execution time: 0.0167s\n",
      "Isolation Forest ROC:0.9414, precision @ rank n:0.5, execution time: 0.9309s\n",
      "K Nearest Neighbors (KNN) ROC:0.6959, precision @ rank n:0.2812, execution time: 0.3571s\n",
      "Local Outlier Factor (LOF) ROC:0.4715, precision @ rank n:0.125, execution time: 0.2122s\n"
     ]
    },
    {
     "name": "stderr",
     "output_type": "stream",
     "text": [
      "C:\\Users\\bhuvaneswar\\Anaconda3\\lib\\site-packages\\sklearn\\covariance\\_robust_covariance.py:644: UserWarning: The covariance matrix associated to your dataset is not full rank\n",
      "  warnings.warn(\"The covariance matrix associated to your dataset \"\n",
      "C:\\Users\\bhuvaneswar\\Anaconda3\\lib\\site-packages\\sklearn\\covariance\\_robust_covariance.py:170: RuntimeWarning: Determinant has increased; this should not happen: log(det) > log(previous_det) (-152.770956835748848 > -250.696836140088948). You may want to try with a higher value of support_fraction (current value: 0.511).\n",
      "  RuntimeWarning)\n"
     ]
    },
    {
     "name": "stdout",
     "output_type": "stream",
     "text": [
      "Minimum Covariance Determinant (MCD) ROC:0.8778, precision @ rank n:0.3906, execution time: 1.505s\n",
      "One-class SVM (OCSVM) ROC:0.9507, precision @ rank n:0.5938, execution time: 0.2118s\n",
      "Principal Component Analysis (PCA) ROC:0.9638, precision @ rank n:0.6875, execution time: 0.0076s\n",
      "\n",
      "... Processing glass.mat ...\n",
      "Angle-based Outlier Detector (ABOD) ROC:0.7104, precision @ rank n:0.25, execution time: 0.1223s\n",
      "Cluster-based Local Outlier Factor ROC:0.8506, precision @ rank n:0.25, execution time: 0.1172s\n",
      "Feature Bagging ROC:0.7043, precision @ rank n:0.25, execution time: 0.0871s\n",
      "Histogram-base Outlier Detection (HBOS) ROC:0.6524, precision @ rank n:0.0, execution time: 0.0058s\n",
      "Isolation Forest ROC:0.7195, precision @ rank n:0.25, execution time: 0.7048s\n",
      "K Nearest Neighbors (KNN) ROC:0.7805, precision @ rank n:0.25, execution time: 0.0216s\n",
      "Local Outlier Factor (LOF) ROC:0.7774, precision @ rank n:0.25, execution time: 0.0056s\n",
      "Minimum Covariance Determinant (MCD) ROC:0.7165, precision @ rank n:0.0, execution time: 0.0767s\n",
      "One-class SVM (OCSVM) ROC:0.6189, precision @ rank n:0.25, execution time: 0.0035s\n",
      "Principal Component Analysis (PCA) ROC:0.622, precision @ rank n:0.25, execution time: 0.001s\n",
      "\n",
      "... Processing ionosphere.mat ...\n",
      "Angle-based Outlier Detector (ABOD) ROC:0.9004, precision @ rank n:0.8214, execution time: 0.207s\n",
      "Cluster-based Local Outlier Factor ROC:0.8952, precision @ rank n:0.8036, execution time: 0.1082s\n",
      "Feature Bagging ROC:0.8933, precision @ rank n:0.75, execution time: 0.2235s\n",
      "Histogram-base Outlier Detection (HBOS) ROC:0.5195, precision @ rank n:0.3393, execution time: 0.0285s\n",
      "Isolation Forest ROC:0.8309, precision @ rank n:0.6607, execution time: 0.7724s\n",
      "K Nearest Neighbors (KNN) ROC:0.9134, precision @ rank n:0.8393, execution time: 0.0381s\n",
      "Local Outlier Factor (LOF) ROC:0.8989, precision @ rank n:0.75, execution time: 0.0156s\n",
      "Minimum Covariance Determinant (MCD) ROC:0.9399, precision @ rank n:0.8571, execution time: 0.1774s\n",
      "One-class SVM (OCSVM) ROC:0.8372, precision @ rank n:0.7143, execution time: 0.0145s\n",
      "Principal Component Analysis (PCA) ROC:0.7971, precision @ rank n:0.5893, execution time: 0.0094s\n",
      "\n",
      "... Processing letter.mat ...\n",
      "Angle-based Outlier Detector (ABOD) ROC:0.8465, precision @ rank n:0.275, execution time: 1.0052s\n",
      "Cluster-based Local Outlier Factor ROC:0.7423, precision @ rank n:0.175, execution time: 0.3731s\n",
      "Feature Bagging ROC:0.866, precision @ rank n:0.4, execution time: 2.0526s\n",
      "Histogram-base Outlier Detection (HBOS) ROC:0.5728, precision @ rank n:0.125, execution time: 0.0246s\n",
      "Isolation Forest ROC:0.5778, precision @ rank n:0.05, execution time: 0.8759s\n",
      "K Nearest Neighbors (KNN) ROC:0.845, precision @ rank n:0.3, execution time: 0.3085s\n",
      "Local Outlier Factor (LOF) ROC:0.8409, precision @ rank n:0.325, execution time: 0.191s\n",
      "Minimum Covariance Determinant (MCD) ROC:0.7499, precision @ rank n:0.075, execution time: 2.3549s\n",
      "One-class SVM (OCSVM) ROC:0.5744, precision @ rank n:0.1, execution time: 0.2159s\n",
      "Principal Component Analysis (PCA) ROC:0.48, precision @ rank n:0.05, execution time: 0.0099s\n",
      "\n",
      "... Processing lympho.mat ...\n",
      "Angle-based Outlier Detector (ABOD) ROC:0.9382, precision @ rank n:0.4, execution time: 0.091s\n",
      "Cluster-based Local Outlier Factor ROC:0.9709, precision @ rank n:0.6, execution time: 0.0985s\n",
      "Feature Bagging ROC:0.9673, precision @ rank n:0.6, execution time: 0.085s\n",
      "Histogram-base Outlier Detection (HBOS) ROC:0.9964, precision @ rank n:0.8, execution time: 0.017s\n",
      "Isolation Forest ROC:0.9855, precision @ rank n:0.6, execution time: 0.6085s\n",
      "K Nearest Neighbors (KNN) ROC:0.9636, precision @ rank n:0.6, execution time: 0.0156s\n",
      "Local Outlier Factor (LOF) ROC:0.9636, precision @ rank n:0.6, execution time: 0.0172s\n",
      "Minimum Covariance Determinant (MCD) ROC:0.9164, precision @ rank n:0.6, execution time: 0.0693s\n",
      "One-class SVM (OCSVM) ROC:0.9636, precision @ rank n:0.6, execution time: 0.0s\n",
      "Principal Component Analysis (PCA) ROC:0.9818, precision @ rank n:0.8, execution time: 0.0s\n",
      "\n",
      "... Processing mnist.mat ...\n"
     ]
    },
    {
     "name": "stderr",
     "output_type": "stream",
     "text": [
      "C:\\Users\\bhuvaneswar\\Anaconda3\\lib\\site-packages\\sklearn\\covariance\\_robust_covariance.py:170: RuntimeWarning: Determinant has increased; this should not happen: log(det) > log(previous_det) (-303.881944356529402 > -525.830836350540153). You may want to try with a higher value of support_fraction (current value: 0.614).\n",
      "  RuntimeWarning)\n",
      "C:\\Users\\bhuvaneswar\\Anaconda3\\lib\\site-packages\\sklearn\\covariance\\_robust_covariance.py:170: RuntimeWarning: Determinant has increased; this should not happen: log(det) > log(previous_det) (-304.021763033307082 > -523.143378896311901). You may want to try with a higher value of support_fraction (current value: 0.614).\n",
      "  RuntimeWarning)\n",
      "C:\\Users\\bhuvaneswar\\Anaconda3\\lib\\site-packages\\sklearn\\covariance\\_robust_covariance.py:170: RuntimeWarning: Determinant has increased; this should not happen: log(det) > log(previous_det) (-338.921775030610604 > -381.672782741425522). You may want to try with a higher value of support_fraction (current value: 0.614).\n",
      "  RuntimeWarning)\n"
     ]
    },
    {
     "name": "stdout",
     "output_type": "stream",
     "text": [
      "Angle-based Outlier Detector (ABOD) ROC:0.7813, precision @ rank n:0.3562, execution time: 15.4613s\n",
      "Cluster-based Local Outlier Factor ROC:0.8447, precision @ rank n:0.4007, execution time: 2.4162s\n",
      "Feature Bagging ROC:0.7259, precision @ rank n:0.3664, execution time: 109.4334s\n",
      "Histogram-base Outlier Detection (HBOS) ROC:0.5675, precision @ rank n:0.1199, execution time: 0.112s\n",
      "Isolation Forest ROC:0.7801, precision @ rank n:0.2979, execution time: 4.4237s\n",
      "K Nearest Neighbors (KNN) ROC:0.8409, precision @ rank n:0.4144, execution time: 14.4807s\n",
      "Local Outlier Factor (LOF) ROC:0.7085, precision @ rank n:0.339, execution time: 13.6918s\n"
     ]
    },
    {
     "name": "stderr",
     "output_type": "stream",
     "text": [
      "C:\\Users\\bhuvaneswar\\Anaconda3\\lib\\site-packages\\sklearn\\covariance\\_robust_covariance.py:644: UserWarning: The covariance matrix associated to your dataset is not full rank\n",
      "  warnings.warn(\"The covariance matrix associated to your dataset \"\n"
     ]
    },
    {
     "name": "stdout",
     "output_type": "stream",
     "text": [
      "Minimum Covariance Determinant (MCD) ROC:0.863, precision @ rank n:0.3973, execution time: 6.0442s\n",
      "One-class SVM (OCSVM) ROC:0.8417, precision @ rank n:0.3801, execution time: 9.9191s\n",
      "Principal Component Analysis (PCA) ROC:0.8396, precision @ rank n:0.3767, execution time: 0.3126s\n",
      "\n",
      "... Processing musk.mat ...\n",
      "Angle-based Outlier Detector (ABOD) ROC:0.0809, precision @ rank n:0.0333, execution time: 4.9329s\n",
      "Cluster-based Local Outlier Factor ROC:1.0, precision @ rank n:1.0, execution time: 0.8653s\n",
      "Feature Bagging ROC:0.5228, precision @ rank n:0.1667, execution time: 29.561s\n",
      "Histogram-base Outlier Detection (HBOS) ROC:0.9999, precision @ rank n:0.9667, execution time: 0.1279s\n",
      "Isolation Forest ROC:0.9996, precision @ rank n:0.9333, execution time: 2.7497s\n",
      "K Nearest Neighbors (KNN) ROC:0.7348, precision @ rank n:0.2333, execution time: 4.8533s\n",
      "Local Outlier Factor (LOF) ROC:0.5323, precision @ rank n:0.1333, execution time: 4.3456s\n",
      "Minimum Covariance Determinant (MCD) ROC:1.0, precision @ rank n:0.9667, execution time: 25.0629s\n",
      "One-class SVM (OCSVM) ROC:1.0, precision @ rank n:1.0, execution time: 2.7033s\n",
      "Principal Component Analysis (PCA) ROC:1.0, precision @ rank n:1.0, execution time: 0.3455s\n",
      "\n",
      "... Processing optdigits.mat ...\n",
      "Angle-based Outlier Detector (ABOD) ROC:0.4428, precision @ rank n:0.0161, execution time: 5.5729s\n",
      "Cluster-based Local Outlier Factor ROC:0.7852, precision @ rank n:0.0, execution time: 1.128s\n",
      "Feature Bagging ROC:0.4641, precision @ rank n:0.0484, execution time: 30.5667s\n",
      "Histogram-base Outlier Detection (HBOS) ROC:0.8822, precision @ rank n:0.2581, execution time: 0.0618s\n",
      "Isolation Forest ROC:0.5764, precision @ rank n:0.0161, execution time: 1.9166s\n",
      "K Nearest Neighbors (KNN) ROC:0.3824, precision @ rank n:0.0, execution time: 3.8423s\n",
      "Local Outlier Factor (LOF) ROC:0.4584, precision @ rank n:0.0484, execution time: 3.4891s\n"
     ]
    },
    {
     "name": "stderr",
     "output_type": "stream",
     "text": [
      "C:\\Users\\bhuvaneswar\\Anaconda3\\lib\\site-packages\\sklearn\\covariance\\_robust_covariance.py:644: UserWarning: The covariance matrix associated to your dataset is not full rank\n",
      "  warnings.warn(\"The covariance matrix associated to your dataset \"\n"
     ]
    },
    {
     "name": "stdout",
     "output_type": "stream",
     "text": [
      "Minimum Covariance Determinant (MCD) ROC:0.3486, precision @ rank n:0.0, execution time: 2.5465s\n",
      "One-class SVM (OCSVM) ROC:0.4972, precision @ rank n:0.0, execution time: 3.0682s\n",
      "Principal Component Analysis (PCA) ROC:0.504, precision @ rank n:0.0, execution time: 0.1148s\n",
      "\n",
      "... Processing pendigits.mat ...\n",
      "Angle-based Outlier Detector (ABOD) ROC:0.7008, precision @ rank n:0.0308, execution time: 3.4454s\n",
      "Cluster-based Local Outlier Factor ROC:0.9609, precision @ rank n:0.3077, execution time: 0.677s\n",
      "Feature Bagging ROC:0.4687, precision @ rank n:0.0462, execution time: 10.1704s\n",
      "Histogram-base Outlier Detection (HBOS) ROC:0.9294, precision @ rank n:0.2615, execution time: 0.0251s\n",
      "Isolation Forest ROC:0.9422, precision @ rank n:0.2769, execution time: 1.419s\n",
      "K Nearest Neighbors (KNN) ROC:0.7602, precision @ rank n:0.0462, execution time: 1.3593s\n",
      "Local Outlier Factor (LOF) ROC:0.481, precision @ rank n:0.0462, execution time: 1.245s\n",
      "Minimum Covariance Determinant (MCD) ROC:0.8271, precision @ rank n:0.0615, execution time: 4.7427s\n",
      "One-class SVM (OCSVM) ROC:0.93, precision @ rank n:0.2923, execution time: 1.8496s\n",
      "Principal Component Analysis (PCA) ROC:0.9332, precision @ rank n:0.3385, execution time: 0.017s\n",
      "\n",
      "... Processing pima.mat ...\n",
      "Angle-based Outlier Detector (ABOD) ROC:0.6757, precision @ rank n:0.5106, execution time: 0.3707s\n",
      "Cluster-based Local Outlier Factor ROC:0.684, precision @ rank n:0.4681, execution time: 0.178s\n",
      "Feature Bagging ROC:0.6446, precision @ rank n:0.4468, execution time: 0.1963s\n",
      "Histogram-base Outlier Detection (HBOS) ROC:0.7169, precision @ rank n:0.5213, execution time: 0.0s\n",
      "Isolation Forest ROC:0.6604, precision @ rank n:0.4787, execution time: 0.7693s\n",
      "K Nearest Neighbors (KNN) ROC:0.7252, precision @ rank n:0.5106, execution time: 0.0832s\n",
      "Local Outlier Factor (LOF) ROC:0.6604, precision @ rank n:0.4787, execution time: 0.0263s\n",
      "Minimum Covariance Determinant (MCD) ROC:0.7047, precision @ rank n:0.4787, execution time: 0.1254s\n",
      "One-class SVM (OCSVM) ROC:0.6423, precision @ rank n:0.4574, execution time: 0.0283s\n",
      "Principal Component Analysis (PCA) ROC:0.6639, precision @ rank n:0.5, execution time: 0.0s\n",
      "\n",
      "... Processing satellite.mat ...\n",
      "Angle-based Outlier Detector (ABOD) ROC:0.5681, precision @ rank n:0.3918, execution time: 4.2095s\n",
      "Cluster-based Local Outlier Factor ROC:0.7234, precision @ rank n:0.5574, execution time: 0.8861s\n",
      "Feature Bagging ROC:0.557, precision @ rank n:0.4051, execution time: 15.7514s\n",
      "Histogram-base Outlier Detection (HBOS) ROC:0.7393, precision @ rank n:0.5466, execution time: 0.0469s\n",
      "Isolation Forest ROC:0.6843, precision @ rank n:0.5719, execution time: 1.8125s\n",
      "K Nearest Neighbors (KNN) ROC:0.6781, precision @ rank n:0.4994, execution time: 2.3783s\n",
      "Local Outlier Factor (LOF) ROC:0.5551, precision @ rank n:0.4051, execution time: 2.0967s\n",
      "Minimum Covariance Determinant (MCD) ROC:0.792, precision @ rank n:0.6747, execution time: 4.3628s\n",
      "One-class SVM (OCSVM) ROC:0.636, precision @ rank n:0.5224, execution time: 2.7849s\n",
      "Principal Component Analysis (PCA) ROC:0.5783, precision @ rank n:0.4559, execution time: 0.0497s\n",
      "\n",
      "... Processing satimage-2.mat ...\n",
      "Angle-based Outlier Detector (ABOD) ROC:0.86, precision @ rank n:0.2593, execution time: 3.6065s\n",
      "Cluster-based Local Outlier Factor ROC:0.9987, precision @ rank n:0.8889, execution time: 0.6836s\n",
      "Feature Bagging ROC:0.4971, precision @ rank n:0.0741, execution time: 13.2638s\n",
      "Histogram-base Outlier Detection (HBOS) ROC:0.9837, precision @ rank n:0.5926, execution time: 0.0324s\n",
      "Isolation Forest ROC:0.9962, precision @ rank n:0.8889, execution time: 1.528s\n",
      "K Nearest Neighbors (KNN) ROC:0.9505, precision @ rank n:0.3704, execution time: 1.8269s\n",
      "Local Outlier Factor (LOF) ROC:0.5006, precision @ rank n:0.0741, execution time: 1.5966s\n",
      "Minimum Covariance Determinant (MCD) ROC:0.9946, precision @ rank n:0.5185, execution time: 4.1818s\n",
      "One-class SVM (OCSVM) ROC:0.9976, precision @ rank n:0.9259, execution time: 2.2623s\n",
      "Principal Component Analysis (PCA) ROC:0.9841, precision @ rank n:0.8519, execution time: 0.0314s\n",
      "\n",
      "... Processing shuttle.mat ...\n",
      "Angle-based Outlier Detector (ABOD) ROC:0.6186, precision @ rank n:0.1918, execution time: 34.2082s\n",
      "Cluster-based Local Outlier Factor ROC:0.6287, precision @ rank n:0.2336, execution time: 2.4387s\n",
      "Feature Bagging ROC:0.5211, precision @ rank n:0.111, execution time: 118.2263s\n",
      "Histogram-base Outlier Detection (HBOS) ROC:0.9851, precision @ rank n:0.9857, execution time: 0.0329s\n",
      "Isolation Forest ROC:0.997, precision @ rank n:0.9308, execution time: 7.6319s\n",
      "K Nearest Neighbors (KNN) ROC:0.645, precision @ rank n:0.2199, execution time: 20.1223s\n",
      "Local Outlier Factor (LOF) ROC:0.5347, precision @ rank n:0.1406, execution time: 26.4436s\n"
     ]
    },
    {
     "name": "stderr",
     "output_type": "stream",
     "text": [
      "C:\\Users\\bhuvaneswar\\Anaconda3\\lib\\site-packages\\sklearn\\covariance\\_robust_covariance.py:170: RuntimeWarning: Determinant has increased; this should not happen: log(det) > log(previous_det) (-49.541490230701029 > -75.592253998160075). You may want to try with a higher value of support_fraction (current value: 0.503).\n",
      "  RuntimeWarning)\n",
      "C:\\Users\\bhuvaneswar\\Anaconda3\\lib\\site-packages\\sklearn\\covariance\\_robust_covariance.py:170: RuntimeWarning: Determinant has increased; this should not happen: log(det) > log(previous_det) (-50.022992269210960 > -76.150022952275933). You may want to try with a higher value of support_fraction (current value: 0.503).\n",
      "  RuntimeWarning)\n",
      "C:\\Users\\bhuvaneswar\\Anaconda3\\lib\\site-packages\\sklearn\\covariance\\_robust_covariance.py:170: RuntimeWarning: Determinant has increased; this should not happen: log(det) > log(previous_det) (-48.588090860494539 > -73.997089087121466). You may want to try with a higher value of support_fraction (current value: 0.503).\n",
      "  RuntimeWarning)\n",
      "C:\\Users\\bhuvaneswar\\Anaconda3\\lib\\site-packages\\sklearn\\covariance\\_robust_covariance.py:170: RuntimeWarning: Determinant has increased; this should not happen: log(det) > log(previous_det) (-50.127165967938033 > -76.814431864511533). You may want to try with a higher value of support_fraction (current value: 0.501).\n",
      "  RuntimeWarning)\n",
      "C:\\Users\\bhuvaneswar\\Anaconda3\\lib\\site-packages\\sklearn\\covariance\\_robust_covariance.py:170: RuntimeWarning: Determinant has increased; this should not happen: log(det) > log(previous_det) (-50.260339163313560 > -77.183008377260506). You may want to try with a higher value of support_fraction (current value: 0.501).\n",
      "  RuntimeWarning)\n",
      "C:\\Users\\bhuvaneswar\\Anaconda3\\lib\\site-packages\\sklearn\\covariance\\_robust_covariance.py:170: RuntimeWarning: Determinant has increased; this should not happen: log(det) > log(previous_det) (-50.088727288180451 > -75.865165747812611). You may want to try with a higher value of support_fraction (current value: 0.501).\n",
      "  RuntimeWarning)\n",
      "C:\\Users\\bhuvaneswar\\Anaconda3\\lib\\site-packages\\sklearn\\covariance\\_robust_covariance.py:170: RuntimeWarning: Determinant has increased; this should not happen: log(det) > log(previous_det) (-50.582785491594258 > -76.611820576922298). You may want to try with a higher value of support_fraction (current value: 0.501).\n",
      "  RuntimeWarning)\n",
      "C:\\Users\\bhuvaneswar\\Anaconda3\\lib\\site-packages\\sklearn\\covariance\\_robust_covariance.py:170: RuntimeWarning: Determinant has increased; this should not happen: log(det) > log(previous_det) (-50.000544286938101 > -76.202702178617812). You may want to try with a higher value of support_fraction (current value: 0.501).\n",
      "  RuntimeWarning)\n",
      "C:\\Users\\bhuvaneswar\\Anaconda3\\lib\\site-packages\\sklearn\\covariance\\_robust_covariance.py:170: RuntimeWarning: Determinant has increased; this should not happen: log(det) > log(previous_det) (-50.556584528453953 > -77.098667780846995). You may want to try with a higher value of support_fraction (current value: 0.501).\n",
      "  RuntimeWarning)\n",
      "C:\\Users\\bhuvaneswar\\Anaconda3\\lib\\site-packages\\sklearn\\covariance\\_robust_covariance.py:170: RuntimeWarning: Determinant has increased; this should not happen: log(det) > log(previous_det) (-50.240104267009002 > -75.051128375205053). You may want to try with a higher value of support_fraction (current value: 0.501).\n",
      "  RuntimeWarning)\n",
      "C:\\Users\\bhuvaneswar\\Anaconda3\\lib\\site-packages\\sklearn\\covariance\\_robust_covariance.py:170: RuntimeWarning: Determinant has increased; this should not happen: log(det) > log(previous_det) (-49.250211305123095 > -75.269917048873594). You may want to try with a higher value of support_fraction (current value: 0.501).\n",
      "  RuntimeWarning)\n",
      "C:\\Users\\bhuvaneswar\\Anaconda3\\lib\\site-packages\\sklearn\\covariance\\_robust_covariance.py:170: RuntimeWarning: Determinant has increased; this should not happen: log(det) > log(previous_det) (-49.909548626708364 > -77.316510535945554). You may want to try with a higher value of support_fraction (current value: 0.501).\n",
      "  RuntimeWarning)\n",
      "C:\\Users\\bhuvaneswar\\Anaconda3\\lib\\site-packages\\sklearn\\covariance\\_robust_covariance.py:170: RuntimeWarning: Determinant has increased; this should not happen: log(det) > log(previous_det) (-50.891326544720059 > -75.752323826887846). You may want to try with a higher value of support_fraction (current value: 0.501).\n",
      "  RuntimeWarning)\n",
      "C:\\Users\\bhuvaneswar\\Anaconda3\\lib\\site-packages\\sklearn\\covariance\\_robust_covariance.py:170: RuntimeWarning: Determinant has increased; this should not happen: log(det) > log(previous_det) (-49.859327893628439 > -75.506059781784089). You may want to try with a higher value of support_fraction (current value: 0.501).\n",
      "  RuntimeWarning)\n",
      "C:\\Users\\bhuvaneswar\\Anaconda3\\lib\\site-packages\\sklearn\\covariance\\_robust_covariance.py:170: RuntimeWarning: Determinant has increased; this should not happen: log(det) > log(previous_det) (-49.586488761882819 > -75.469733773072221). You may want to try with a higher value of support_fraction (current value: 0.501).\n",
      "  RuntimeWarning)\n",
      "C:\\Users\\bhuvaneswar\\Anaconda3\\lib\\site-packages\\sklearn\\covariance\\_robust_covariance.py:170: RuntimeWarning: Determinant has increased; this should not happen: log(det) > log(previous_det) (-50.101075588075524 > -76.262519209035275). You may want to try with a higher value of support_fraction (current value: 0.501).\n",
      "  RuntimeWarning)\n",
      "C:\\Users\\bhuvaneswar\\Anaconda3\\lib\\site-packages\\sklearn\\covariance\\_robust_covariance.py:170: RuntimeWarning: Determinant has increased; this should not happen: log(det) > log(previous_det) (-50.312636661667774 > -76.827897355973249). You may want to try with a higher value of support_fraction (current value: 0.501).\n",
      "  RuntimeWarning)\n",
      "C:\\Users\\bhuvaneswar\\Anaconda3\\lib\\site-packages\\sklearn\\covariance\\_robust_covariance.py:170: RuntimeWarning: Determinant has increased; this should not happen: log(det) > log(previous_det) (-50.250066970764166 > -78.448260993170479). You may want to try with a higher value of support_fraction (current value: 0.501).\n",
      "  RuntimeWarning)\n",
      "C:\\Users\\bhuvaneswar\\Anaconda3\\lib\\site-packages\\sklearn\\covariance\\_robust_covariance.py:170: RuntimeWarning: Determinant has increased; this should not happen: log(det) > log(previous_det) (-49.555505358476601 > -76.383177602584297). You may want to try with a higher value of support_fraction (current value: 0.501).\n",
      "  RuntimeWarning)\n",
      "C:\\Users\\bhuvaneswar\\Anaconda3\\lib\\site-packages\\sklearn\\covariance\\_robust_covariance.py:170: RuntimeWarning: Determinant has increased; this should not happen: log(det) > log(previous_det) (-49.428222337190036 > -77.657757837885939). You may want to try with a higher value of support_fraction (current value: 0.501).\n",
      "  RuntimeWarning)\n",
      "C:\\Users\\bhuvaneswar\\Anaconda3\\lib\\site-packages\\sklearn\\covariance\\_robust_covariance.py:170: RuntimeWarning: Determinant has increased; this should not happen: log(det) > log(previous_det) (-50.312868452035886 > -78.275586981066255). You may want to try with a higher value of support_fraction (current value: 0.501).\n",
      "  RuntimeWarning)\n",
      "C:\\Users\\bhuvaneswar\\Anaconda3\\lib\\site-packages\\sklearn\\covariance\\_robust_covariance.py:170: RuntimeWarning: Determinant has increased; this should not happen: log(det) > log(previous_det) (-50.764724066883446 > -77.282352110428548). You may want to try with a higher value of support_fraction (current value: 0.501).\n",
      "  RuntimeWarning)\n",
      "C:\\Users\\bhuvaneswar\\Anaconda3\\lib\\site-packages\\sklearn\\covariance\\_robust_covariance.py:170: RuntimeWarning: Determinant has increased; this should not happen: log(det) > log(previous_det) (-49.672481809425953 > -75.780064170775518). You may want to try with a higher value of support_fraction (current value: 0.501).\n",
      "  RuntimeWarning)\n",
      "C:\\Users\\bhuvaneswar\\Anaconda3\\lib\\site-packages\\sklearn\\covariance\\_robust_covariance.py:170: RuntimeWarning: Determinant has increased; this should not happen: log(det) > log(previous_det) (-48.810409699568289 > -116.332661175263610). You may want to try with a higher value of support_fraction (current value: 0.501).\n",
      "  RuntimeWarning)\n",
      "C:\\Users\\bhuvaneswar\\Anaconda3\\lib\\site-packages\\sklearn\\covariance\\_robust_covariance.py:170: RuntimeWarning: Determinant has increased; this should not happen: log(det) > log(previous_det) (-50.246740593074648 > -75.373826826201935). You may want to try with a higher value of support_fraction (current value: 0.501).\n",
      "  RuntimeWarning)\n",
      "C:\\Users\\bhuvaneswar\\Anaconda3\\lib\\site-packages\\sklearn\\covariance\\_robust_covariance.py:170: RuntimeWarning: Determinant has increased; this should not happen: log(det) > log(previous_det) (-50.256978425484292 > -76.476983289741440). You may want to try with a higher value of support_fraction (current value: 0.501).\n",
      "  RuntimeWarning)\n"
     ]
    },
    {
     "name": "stderr",
     "output_type": "stream",
     "text": [
      "C:\\Users\\bhuvaneswar\\Anaconda3\\lib\\site-packages\\sklearn\\covariance\\_robust_covariance.py:170: RuntimeWarning: Determinant has increased; this should not happen: log(det) > log(previous_det) (-50.288199308055468 > -75.990589261846011). You may want to try with a higher value of support_fraction (current value: 0.501).\n",
      "  RuntimeWarning)\n",
      "C:\\Users\\bhuvaneswar\\Anaconda3\\lib\\site-packages\\sklearn\\covariance\\_robust_covariance.py:170: RuntimeWarning: Determinant has increased; this should not happen: log(det) > log(previous_det) (-50.329968951469141 > -77.419260242705974). You may want to try with a higher value of support_fraction (current value: 0.501).\n",
      "  RuntimeWarning)\n",
      "C:\\Users\\bhuvaneswar\\Anaconda3\\lib\\site-packages\\sklearn\\covariance\\_robust_covariance.py:170: RuntimeWarning: Determinant has increased; this should not happen: log(det) > log(previous_det) (-50.221834205302052 > -78.090864446968652). You may want to try with a higher value of support_fraction (current value: 0.501).\n",
      "  RuntimeWarning)\n",
      "C:\\Users\\bhuvaneswar\\Anaconda3\\lib\\site-packages\\sklearn\\covariance\\_robust_covariance.py:170: RuntimeWarning: Determinant has increased; this should not happen: log(det) > log(previous_det) (-49.289029393101089 > -75.757556561107862). You may want to try with a higher value of support_fraction (current value: 0.501).\n",
      "  RuntimeWarning)\n",
      "C:\\Users\\bhuvaneswar\\Anaconda3\\lib\\site-packages\\sklearn\\covariance\\_robust_covariance.py:170: RuntimeWarning: Determinant has increased; this should not happen: log(det) > log(previous_det) (-49.385618505522793 > -77.171277510572310). You may want to try with a higher value of support_fraction (current value: 0.501).\n",
      "  RuntimeWarning)\n",
      "C:\\Users\\bhuvaneswar\\Anaconda3\\lib\\site-packages\\sklearn\\covariance\\_robust_covariance.py:170: RuntimeWarning: Determinant has increased; this should not happen: log(det) > log(previous_det) (-50.209250265997660 > -76.818840276676667). You may want to try with a higher value of support_fraction (current value: 0.501).\n",
      "  RuntimeWarning)\n",
      "C:\\Users\\bhuvaneswar\\Anaconda3\\lib\\site-packages\\sklearn\\covariance\\_robust_covariance.py:170: RuntimeWarning: Determinant has increased; this should not happen: log(det) > log(previous_det) (-50.362224422506152 > -76.716480514242747). You may want to try with a higher value of support_fraction (current value: 0.501).\n",
      "  RuntimeWarning)\n",
      "C:\\Users\\bhuvaneswar\\Anaconda3\\lib\\site-packages\\sklearn\\covariance\\_robust_covariance.py:170: RuntimeWarning: Determinant has increased; this should not happen: log(det) > log(previous_det) (-50.173137659451463 > -75.808458672225186). You may want to try with a higher value of support_fraction (current value: 0.501).\n",
      "  RuntimeWarning)\n",
      "C:\\Users\\bhuvaneswar\\Anaconda3\\lib\\site-packages\\sklearn\\covariance\\_robust_covariance.py:170: RuntimeWarning: Determinant has increased; this should not happen: log(det) > log(previous_det) (-50.294483190145293 > -76.390291443926770). You may want to try with a higher value of support_fraction (current value: 0.501).\n",
      "  RuntimeWarning)\n",
      "C:\\Users\\bhuvaneswar\\Anaconda3\\lib\\site-packages\\sklearn\\covariance\\_robust_covariance.py:170: RuntimeWarning: Determinant has increased; this should not happen: log(det) > log(previous_det) (-50.208972773367584 > -75.741530995676783). You may want to try with a higher value of support_fraction (current value: 0.501).\n",
      "  RuntimeWarning)\n",
      "C:\\Users\\bhuvaneswar\\Anaconda3\\lib\\site-packages\\sklearn\\covariance\\_robust_covariance.py:170: RuntimeWarning: Determinant has increased; this should not happen: log(det) > log(previous_det) (-50.378081918546030 > -76.605948395137275). You may want to try with a higher value of support_fraction (current value: 0.501).\n",
      "  RuntimeWarning)\n",
      "C:\\Users\\bhuvaneswar\\Anaconda3\\lib\\site-packages\\sklearn\\covariance\\_robust_covariance.py:170: RuntimeWarning: Determinant has increased; this should not happen: log(det) > log(previous_det) (-50.916820128958108 > -76.552623764140179). You may want to try with a higher value of support_fraction (current value: 0.501).\n",
      "  RuntimeWarning)\n",
      "C:\\Users\\bhuvaneswar\\Anaconda3\\lib\\site-packages\\sklearn\\covariance\\_robust_covariance.py:170: RuntimeWarning: Determinant has increased; this should not happen: log(det) > log(previous_det) (-50.077545968806284 > -75.696921172394283). You may want to try with a higher value of support_fraction (current value: 0.501).\n",
      "  RuntimeWarning)\n",
      "C:\\Users\\bhuvaneswar\\Anaconda3\\lib\\site-packages\\sklearn\\covariance\\_robust_covariance.py:170: RuntimeWarning: Determinant has increased; this should not happen: log(det) > log(previous_det) (-50.436632051329951 > -76.438541656063492). You may want to try with a higher value of support_fraction (current value: 0.501).\n",
      "  RuntimeWarning)\n",
      "C:\\Users\\bhuvaneswar\\Anaconda3\\lib\\site-packages\\sklearn\\covariance\\_robust_covariance.py:170: RuntimeWarning: Determinant has increased; this should not happen: log(det) > log(previous_det) (-50.734734341696203 > -76.521728710156154). You may want to try with a higher value of support_fraction (current value: 0.501).\n",
      "  RuntimeWarning)\n",
      "C:\\Users\\bhuvaneswar\\Anaconda3\\lib\\site-packages\\sklearn\\covariance\\_robust_covariance.py:170: RuntimeWarning: Determinant has increased; this should not happen: log(det) > log(previous_det) (-51.027942813065295 > -77.260538598709132). You may want to try with a higher value of support_fraction (current value: 0.501).\n",
      "  RuntimeWarning)\n",
      "C:\\Users\\bhuvaneswar\\Anaconda3\\lib\\site-packages\\sklearn\\covariance\\_robust_covariance.py:170: RuntimeWarning: Determinant has increased; this should not happen: log(det) > log(previous_det) (-51.132819510101456 > -80.575229534353539). You may want to try with a higher value of support_fraction (current value: 0.501).\n",
      "  RuntimeWarning)\n",
      "C:\\Users\\bhuvaneswar\\Anaconda3\\lib\\site-packages\\sklearn\\covariance\\_robust_covariance.py:170: RuntimeWarning: Determinant has increased; this should not happen: log(det) > log(previous_det) (-50.826679532509623 > -77.642101236679707). You may want to try with a higher value of support_fraction (current value: 0.501).\n",
      "  RuntimeWarning)\n"
     ]
    },
    {
     "name": "stdout",
     "output_type": "stream",
     "text": [
      "Minimum Covariance Determinant (MCD) ROC:0.9903, precision @ rank n:0.7534, execution time: 42.0348s\n",
      "One-class SVM (OCSVM) ROC:0.9922, precision @ rank n:0.9553, execution time: 177.4606s\n",
      "Principal Component Analysis (PCA) ROC:0.9902, precision @ rank n:0.9503, execution time: 0.0862s\n",
      "\n",
      "... Processing shuttle.mat ...\n",
      "Angle-based Outlier Detector (ABOD) ROC:0.6227, precision @ rank n:0.1938, execution time: 36.429s\n",
      "Cluster-based Local Outlier Factor ROC:0.6578, precision @ rank n:0.2206, execution time: 2.5575s\n"
     ]
    }
   ],
   "source": [
    "from time import time\n",
    "random_state = np.random.RandomState(42)\n",
    "\n",
    "for mat_file in mat_file_list:\n",
    "    print(\"\\n... Processing\", mat_file, '...')\n",
    "    mat = loadmat(os.path.join( \"day1project\",mat_file))\n",
    "    \n",
    "    X = mat['X']\n",
    "    y = mat['y'].ravel()\n",
    "    outliers_fraction = np.count_nonzero(y) / len(y)\n",
    "    outliers_percentage = round(outliers_fraction * 100, ndigits=4)\n",
    "\n",
    "   # construct containers for saving results\n",
    "    roc_list = [mat_file[:-4], X.shape[0], X.shape[1], outliers_percentage]\n",
    "    prn_list = [mat_file[:-4], X.shape[0], X.shape[1], outliers_percentage]\n",
    "    time_list = [mat_file[:-4], X.shape[0], X.shape[1], outliers_percentage]\n",
    "\n",
    "   # 60% data for training and 40% for testing\n",
    "    X_train, X_test, y_train, y_test = train_test_split(X, y, test_size=0.4,\n",
    "                                                       random_state=random_state)\n",
    "\n",
    "   # standardizing data for processing\n",
    "    X_train_norm, X_test_norm = standardizer(X_train, X_test)\n",
    "\n",
    "    classifiers = {'Angle-based Outlier Detector (ABOD)': ABOD(contamination=outliers_fraction),\n",
    "       'Cluster-based Local Outlier Factor': CBLOF(\n",
    "           contamination=outliers_fraction, check_estimator=False,\n",
    "           random_state=random_state),\n",
    "       'Feature Bagging': FeatureBagging(contamination=outliers_fraction,\n",
    "                                         random_state=random_state),\n",
    "       'Histogram-base Outlier Detection (HBOS)': HBOS(\n",
    "           contamination=outliers_fraction),\n",
    "       'Isolation Forest': IForest(contamination=outliers_fraction,\n",
    "                                   random_state=random_state),\n",
    "       'K Nearest Neighbors (KNN)': KNN(contamination=outliers_fraction),\n",
    "       'Local Outlier Factor (LOF)': LOF(\n",
    "           contamination=outliers_fraction),\n",
    "       'Minimum Covariance Determinant (MCD)': MCD(\n",
    "           contamination=outliers_fraction, random_state=random_state),\n",
    "       'One-class SVM (OCSVM)': OCSVM(contamination=outliers_fraction),\n",
    "       'Principal Component Analysis (PCA)': PCA(\n",
    "           contamination=outliers_fraction, random_state=random_state),\n",
    "   }\n",
    "\n",
    "    for clf_name, clf in classifiers.items():\n",
    "        t0 = time()\n",
    "        clf.fit(X_train_norm)\n",
    "        test_scores = clf.decision_function(X_test_norm)\n",
    "        t1 = time()\n",
    "        duration = round(t1 - t0, ndigits=4)\n",
    "        time_list.append(duration)\n",
    "\n",
    "        roc = round(roc_auc_score(y_test, test_scores), ndigits=4)\n",
    "        prn = round(precision_n_scores(y_test, test_scores), ndigits=4)\n",
    "\n",
    "        print('{clf_name} ROC:{roc}, precision @ rank n:{prn}, '\n",
    "             'execution time: {duration}s'.format(\n",
    "           clf_name=clf_name, roc=roc, prn=prn, duration=duration))\n",
    "\n",
    "        roc_list.append(roc)\n",
    "        prn_list.append(prn)\n",
    "\n",
    "    temp_df = pd.DataFrame(time_list).transpose()\n",
    "    temp_df.columns = df_columns\n",
    "    time_df = pd.concat([time_df, temp_df], axis=0)\n",
    "\n",
    "    temp_df = pd.DataFrame(roc_list).transpose()\n",
    "    temp_df.columns = df_columns\n",
    "    roc_df = pd.concat([roc_df, temp_df], axis=0)\n",
    "\n",
    "    temp_df = pd.DataFrame(prn_list).transpose()\n",
    "    temp_df.columns = df_columns\n",
    "    prn_df = pd.concat([prn_df, temp_df], axis=0)\n",
    "\n"
   ]
  },
  {
   "cell_type": "code",
   "execution_count": null,
   "metadata": {
    "ExecuteTime": {
     "start_time": "2020-08-23T03:28:43.665Z"
    }
   },
   "outputs": [],
   "source": [
    "roc_df"
   ]
  },
  {
   "cell_type": "code",
   "execution_count": null,
   "metadata": {
    "ExecuteTime": {
     "start_time": "2020-08-23T03:28:43.668Z"
    }
   },
   "outputs": [],
   "source": [
    "roc_df"
   ]
  },
  {
   "cell_type": "code",
   "execution_count": null,
   "metadata": {
    "ExecuteTime": {
     "start_time": "2020-08-23T03:28:43.677Z"
    }
   },
   "outputs": [],
   "source": [
    "time_df"
   ]
  },
  {
   "cell_type": "code",
   "execution_count": null,
   "metadata": {
    "ExecuteTime": {
     "start_time": "2020-08-23T03:28:43.686Z"
    }
   },
   "outputs": [],
   "source": [
    "prn_df"
   ]
  },
  {
   "cell_type": "code",
   "execution_count": null,
   "metadata": {},
   "outputs": [],
   "source": []
  }
 ],
 "metadata": {
  "kernelspec": {
   "display_name": "Python 3.7.4 64-bit ('base': conda)",
   "language": "python",
   "name": "python37464bitbasecondadde67c615689450c83069a7ce14fb833"
  },
  "language_info": {
   "codemirror_mode": {
    "name": "ipython",
    "version": 3
   },
   "file_extension": ".py",
   "mimetype": "text/x-python",
   "name": "python",
   "nbconvert_exporter": "python",
   "pygments_lexer": "ipython3",
   "version": "3.7.6"
  }
 },
 "nbformat": 4,
 "nbformat_minor": 4
}
