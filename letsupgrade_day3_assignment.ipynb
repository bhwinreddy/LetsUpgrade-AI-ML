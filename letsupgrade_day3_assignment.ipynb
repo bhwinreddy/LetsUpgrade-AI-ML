{
  "nbformat": 4,
  "nbformat_minor": 0,
  "metadata": {
    "colab": {
      "name": "letsupgrade day3 assignment",
      "provenance": []
    },
    "kernelspec": {
      "name": "python3",
      "display_name": "Python 3"
    }
  },
  "cells": [
    {
      "cell_type": "markdown",
      "metadata": {
        "id": "h-lsjQCwcIkO",
        "colab_type": "text"
      },
      "source": [
        "# Question 1 :\n",
        "Write a program to subtract two complex numbers in Python.\n"
      ]
    },
    {
      "cell_type": "code",
      "metadata": {
        "id": "HcpD4JE3cFU_",
        "colab_type": "code",
        "colab": {
          "base_uri": "https://localhost:8080/",
          "height": 35
        },
        "outputId": "e0ede4c0-0c34-4a9e-ba17-7c07f9971a50"
      },
      "source": [
        "x=3+4j\n",
        "y=5+2j\n",
        "print(x-y)"
      ],
      "execution_count": 1,
      "outputs": [
        {
          "output_type": "stream",
          "text": [
            "(-2+2j)\n"
          ],
          "name": "stdout"
        }
      ]
    },
    {
      "cell_type": "markdown",
      "metadata": {
        "id": "Xr6cZu3DdG8f",
        "colab_type": "text"
      },
      "source": [
        "# Question 2 :\n",
        "**Write a program to find the fourth root of a number.**"
      ]
    },
    {
      "cell_type": "code",
      "metadata": {
        "id": "tuPrVsIXdMvD",
        "colab_type": "code",
        "colab": {
          "base_uri": "https://localhost:8080/",
          "height": 52
        },
        "outputId": "b04ae23d-26ab-4966-c6fc-f9e5d40d2f26"
      },
      "source": [
        "x=int(input(\"enter the integer:\"))\n",
        "y=0.25\n",
        "print(x**y)"
      ],
      "execution_count": 2,
      "outputs": [
        {
          "output_type": "stream",
          "text": [
            "enter the integer8\n",
            "1.681792830507429\n"
          ],
          "name": "stdout"
        }
      ]
    },
    {
      "cell_type": "markdown",
      "metadata": {
        "id": "RcrmykJediq-",
        "colab_type": "text"
      },
      "source": [
        "# Question 3:\n",
        "**Write a program to swap two numbers in Python without the help of a temporary variable.**\n"
      ]
    },
    {
      "cell_type": "code",
      "metadata": {
        "id": "wn_TpDFsdu7T",
        "colab_type": "code",
        "colab": {
          "base_uri": "https://localhost:8080/",
          "height": 69
        },
        "outputId": "22a2f00c-9af7-4e5f-a15f-3ca01b2849b6"
      },
      "source": [
        "x=int(input())\n",
        "y=int(input())\n",
        "x,y=y,x\n",
        "print(x,y)"
      ],
      "execution_count": 4,
      "outputs": [
        {
          "output_type": "stream",
          "text": [
            "4\n",
            "8\n",
            "8 4\n"
          ],
          "name": "stdout"
        }
      ]
    },
    {
      "cell_type": "markdown",
      "metadata": {
        "id": "jzIgEPhbd9gp",
        "colab_type": "text"
      },
      "source": [
        "# Question 4:\n",
        "**Write a program to swap two numbers in Python with using a temporary variable.**\n"
      ]
    },
    {
      "cell_type": "code",
      "metadata": {
        "id": "w08P-gw2eRFb",
        "colab_type": "code",
        "colab": {
          "base_uri": "https://localhost:8080/",
          "height": 69
        },
        "outputId": "490be01f-3b7b-4f28-e702-3d8a7c908961"
      },
      "source": [
        "x=int(input())\n",
        "y=int(input())\n",
        "temp=y\n",
        "y=x\n",
        "x=temp\n",
        "print(x,y)"
      ],
      "execution_count": 5,
      "outputs": [
        {
          "output_type": "stream",
          "text": [
            "4\n",
            "7\n",
            "7 4\n"
          ],
          "name": "stdout"
        }
      ]
    },
    {
      "cell_type": "markdown",
      "metadata": {
        "id": "Whh53XcUe1Ra",
        "colab_type": "text"
      },
      "source": [
        "#Question 5:\n",
        "**Write a program to convert fahrenheit to kelvin and celsius both**"
      ]
    },
    {
      "cell_type": "code",
      "metadata": {
        "id": "5Ka19Gu2fBJN",
        "colab_type": "code",
        "colab": {
          "base_uri": "https://localhost:8080/",
          "height": 87
        },
        "outputId": "c890e9d6-c6bd-412f-d7c8-7830a96ecf64"
      },
      "source": [
        "#logic c=f-32/1.8\n",
        "f=int(input())\n",
        "c=(f-32)/1.8\n",
        "print(\"degree celcius :\",c)\n",
        "celcius=int(input())\n",
        "farenhit=(c*1.8)+32\n",
        "print('farenhit temp:',farenhit)\n"
      ],
      "execution_count": 6,
      "outputs": [
        {
          "output_type": "stream",
          "text": [
            "56\n",
            "degree celcius : 13.333333333333332\n",
            "26\n",
            "farenhit temp: 56.0\n"
          ],
          "name": "stdout"
        }
      ]
    },
    {
      "cell_type": "markdown",
      "metadata": {
        "id": "Mn6u6Ez3fxHr",
        "colab_type": "text"
      },
      "source": [
        "#Question 6:\n",
        "**Write a program to demonstrate all the available data types in Python. Hint: Use type() function**"
      ]
    },
    {
      "cell_type": "code",
      "metadata": {
        "id": "_xkYC5irf8-1",
        "colab_type": "code",
        "colab": {
          "base_uri": "https://localhost:8080/",
          "height": 139
        },
        "outputId": "e77fc9a6-a594-42b3-ff4c-dc647033aaf4"
      },
      "source": [
        "x=123\n",
        "y=12.5\n",
        "c=\"bhuvi\"\n",
        "List=['1','3']\n",
        "Tup=(1,3,6)\n",
        "dictr={1:\"gh\",2:\"hg\"}\n",
        "sett={1,45,7}\n",
        "print(type(x))\n",
        "print(type(y))\n",
        "print(type(List))\n",
        "print(type(Tup))\n",
        "print(type(dictr))\n",
        "print(type(sett))\n",
        "print(type(c))"
      ],
      "execution_count": 8,
      "outputs": [
        {
          "output_type": "stream",
          "text": [
            "<class 'int'>\n",
            "<class 'float'>\n",
            "<class 'list'>\n",
            "<class 'tuple'>\n",
            "<class 'dict'>\n",
            "<class 'set'>\n",
            "<class 'str'>\n"
          ],
          "name": "stdout"
        }
      ]
    },
    {
      "cell_type": "markdown",
      "metadata": {
        "id": "fzhmLqJWg8he",
        "colab_type": "text"
      },
      "source": [
        "#Question 7:\n",
        "**Create a Markdown cell in jupyter and list the steps discussed in the session by Dr. Darshan\n",
        "Ingle sir to create Github profile and upload Githubs Assignment link.**"
      ]
    },
    {
      "cell_type": "markdown",
      "metadata": {
        "id": "NkfuDALMhTHF",
        "colab_type": "text"
      },
      "source": [
        "***1.create a git hub account\n",
        "2.create a repository with*** #Letsupgrade-AI-Ml\n",
        "*3.drop your files into it \n",
        "\n",
        "1.  create a git hub account\n",
        "2.  create a repository with #Letsupgrade-AI-Ml(public it should be)\n",
        "3.  drop your files into it \n",
        "4.  submit your gitbhub link in the submission form ***"
      ]
    }
  ]
}